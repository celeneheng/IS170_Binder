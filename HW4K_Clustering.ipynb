{
  "nbformat": 4,
  "nbformat_minor": 0,
  "metadata": {
    "colab": {
      "provenance": [],
      "include_colab_link": true
    },
    "kernelspec": {
      "name": "python3",
      "display_name": "Python 3"
    },
    "language_info": {
      "name": "python"
    }
  },
  "cells": [
    {
      "cell_type": "markdown",
      "metadata": {
        "id": "view-in-github",
        "colab_type": "text"
      },
      "source": [
        "<a href=\"https://colab.research.google.com/github/celeneheng/IS170_Binder/blob/3-K-Means-Clustering/HW4K_Clustering.ipynb\" target=\"_parent\"><img src=\"https://colab.research.google.com/assets/colab-badge.svg\" alt=\"Open In Colab\"/></a>"
      ]
    },
    {
      "cell_type": "code",
      "execution_count": null,
      "metadata": {
        "id": "dgRtQ0aoenns"
      },
      "outputs": [],
      "source": [
        "# call the required libraries\n",
        "import io\n",
        "import numpy as np\n",
        "import pandas as pd\n",
        "import matplotlib.pyplot as plt\n",
        "from sklearn.cluster import KMeans"
      ]
    },
    {
      "cell_type": "code",
      "source": [
        "from google.colab import files\n",
        " \n",
        " \n",
        "uploaded = files.upload()"
      ],
      "metadata": {
        "colab": {
          "base_uri": "https://localhost:8080/",
          "height": 73
        },
        "id": "RIPWL0OTf4hv",
        "outputId": "e8c620b3-2b4c-40af-8af3-272a01afa285"
      },
      "execution_count": null,
      "outputs": [
        {
          "output_type": "display_data",
          "data": {
            "text/plain": [
              "<IPython.core.display.HTML object>"
            ],
            "text/html": [
              "\n",
              "     <input type=\"file\" id=\"files-0d8b5b16-ba71-4438-942d-b2b437ea60fa\" name=\"files[]\" multiple disabled\n",
              "        style=\"border:none\" />\n",
              "     <output id=\"result-0d8b5b16-ba71-4438-942d-b2b437ea60fa\">\n",
              "      Upload widget is only available when the cell has been executed in the\n",
              "      current browser session. Please rerun this cell to enable.\n",
              "      </output>\n",
              "      <script>// Copyright 2017 Google LLC\n",
              "//\n",
              "// Licensed under the Apache License, Version 2.0 (the \"License\");\n",
              "// you may not use this file except in compliance with the License.\n",
              "// You may obtain a copy of the License at\n",
              "//\n",
              "//      http://www.apache.org/licenses/LICENSE-2.0\n",
              "//\n",
              "// Unless required by applicable law or agreed to in writing, software\n",
              "// distributed under the License is distributed on an \"AS IS\" BASIS,\n",
              "// WITHOUT WARRANTIES OR CONDITIONS OF ANY KIND, either express or implied.\n",
              "// See the License for the specific language governing permissions and\n",
              "// limitations under the License.\n",
              "\n",
              "/**\n",
              " * @fileoverview Helpers for google.colab Python module.\n",
              " */\n",
              "(function(scope) {\n",
              "function span(text, styleAttributes = {}) {\n",
              "  const element = document.createElement('span');\n",
              "  element.textContent = text;\n",
              "  for (const key of Object.keys(styleAttributes)) {\n",
              "    element.style[key] = styleAttributes[key];\n",
              "  }\n",
              "  return element;\n",
              "}\n",
              "\n",
              "// Max number of bytes which will be uploaded at a time.\n",
              "const MAX_PAYLOAD_SIZE = 100 * 1024;\n",
              "\n",
              "function _uploadFiles(inputId, outputId) {\n",
              "  const steps = uploadFilesStep(inputId, outputId);\n",
              "  const outputElement = document.getElementById(outputId);\n",
              "  // Cache steps on the outputElement to make it available for the next call\n",
              "  // to uploadFilesContinue from Python.\n",
              "  outputElement.steps = steps;\n",
              "\n",
              "  return _uploadFilesContinue(outputId);\n",
              "}\n",
              "\n",
              "// This is roughly an async generator (not supported in the browser yet),\n",
              "// where there are multiple asynchronous steps and the Python side is going\n",
              "// to poll for completion of each step.\n",
              "// This uses a Promise to block the python side on completion of each step,\n",
              "// then passes the result of the previous step as the input to the next step.\n",
              "function _uploadFilesContinue(outputId) {\n",
              "  const outputElement = document.getElementById(outputId);\n",
              "  const steps = outputElement.steps;\n",
              "\n",
              "  const next = steps.next(outputElement.lastPromiseValue);\n",
              "  return Promise.resolve(next.value.promise).then((value) => {\n",
              "    // Cache the last promise value to make it available to the next\n",
              "    // step of the generator.\n",
              "    outputElement.lastPromiseValue = value;\n",
              "    return next.value.response;\n",
              "  });\n",
              "}\n",
              "\n",
              "/**\n",
              " * Generator function which is called between each async step of the upload\n",
              " * process.\n",
              " * @param {string} inputId Element ID of the input file picker element.\n",
              " * @param {string} outputId Element ID of the output display.\n",
              " * @return {!Iterable<!Object>} Iterable of next steps.\n",
              " */\n",
              "function* uploadFilesStep(inputId, outputId) {\n",
              "  const inputElement = document.getElementById(inputId);\n",
              "  inputElement.disabled = false;\n",
              "\n",
              "  const outputElement = document.getElementById(outputId);\n",
              "  outputElement.innerHTML = '';\n",
              "\n",
              "  const pickedPromise = new Promise((resolve) => {\n",
              "    inputElement.addEventListener('change', (e) => {\n",
              "      resolve(e.target.files);\n",
              "    });\n",
              "  });\n",
              "\n",
              "  const cancel = document.createElement('button');\n",
              "  inputElement.parentElement.appendChild(cancel);\n",
              "  cancel.textContent = 'Cancel upload';\n",
              "  const cancelPromise = new Promise((resolve) => {\n",
              "    cancel.onclick = () => {\n",
              "      resolve(null);\n",
              "    };\n",
              "  });\n",
              "\n",
              "  // Wait for the user to pick the files.\n",
              "  const files = yield {\n",
              "    promise: Promise.race([pickedPromise, cancelPromise]),\n",
              "    response: {\n",
              "      action: 'starting',\n",
              "    }\n",
              "  };\n",
              "\n",
              "  cancel.remove();\n",
              "\n",
              "  // Disable the input element since further picks are not allowed.\n",
              "  inputElement.disabled = true;\n",
              "\n",
              "  if (!files) {\n",
              "    return {\n",
              "      response: {\n",
              "        action: 'complete',\n",
              "      }\n",
              "    };\n",
              "  }\n",
              "\n",
              "  for (const file of files) {\n",
              "    const li = document.createElement('li');\n",
              "    li.append(span(file.name, {fontWeight: 'bold'}));\n",
              "    li.append(span(\n",
              "        `(${file.type || 'n/a'}) - ${file.size} bytes, ` +\n",
              "        `last modified: ${\n",
              "            file.lastModifiedDate ? file.lastModifiedDate.toLocaleDateString() :\n",
              "                                    'n/a'} - `));\n",
              "    const percent = span('0% done');\n",
              "    li.appendChild(percent);\n",
              "\n",
              "    outputElement.appendChild(li);\n",
              "\n",
              "    const fileDataPromise = new Promise((resolve) => {\n",
              "      const reader = new FileReader();\n",
              "      reader.onload = (e) => {\n",
              "        resolve(e.target.result);\n",
              "      };\n",
              "      reader.readAsArrayBuffer(file);\n",
              "    });\n",
              "    // Wait for the data to be ready.\n",
              "    let fileData = yield {\n",
              "      promise: fileDataPromise,\n",
              "      response: {\n",
              "        action: 'continue',\n",
              "      }\n",
              "    };\n",
              "\n",
              "    // Use a chunked sending to avoid message size limits. See b/62115660.\n",
              "    let position = 0;\n",
              "    do {\n",
              "      const length = Math.min(fileData.byteLength - position, MAX_PAYLOAD_SIZE);\n",
              "      const chunk = new Uint8Array(fileData, position, length);\n",
              "      position += length;\n",
              "\n",
              "      const base64 = btoa(String.fromCharCode.apply(null, chunk));\n",
              "      yield {\n",
              "        response: {\n",
              "          action: 'append',\n",
              "          file: file.name,\n",
              "          data: base64,\n",
              "        },\n",
              "      };\n",
              "\n",
              "      let percentDone = fileData.byteLength === 0 ?\n",
              "          100 :\n",
              "          Math.round((position / fileData.byteLength) * 100);\n",
              "      percent.textContent = `${percentDone}% done`;\n",
              "\n",
              "    } while (position < fileData.byteLength);\n",
              "  }\n",
              "\n",
              "  // All done.\n",
              "  yield {\n",
              "    response: {\n",
              "      action: 'complete',\n",
              "    }\n",
              "  };\n",
              "}\n",
              "\n",
              "scope.google = scope.google || {};\n",
              "scope.google.colab = scope.google.colab || {};\n",
              "scope.google.colab._files = {\n",
              "  _uploadFiles,\n",
              "  _uploadFilesContinue,\n",
              "};\n",
              "})(self);\n",
              "</script> "
            ]
          },
          "metadata": {}
        },
        {
          "output_type": "stream",
          "name": "stdout",
          "text": [
            "Saving Electric_Vehicle_Population_Data.csv to Electric_Vehicle_Population_Data.csv\n"
          ]
        }
      ]
    },
    {
      "cell_type": "code",
      "source": [
        "df = pd.read_csv(io.BytesIO(uploaded['Electric_Vehicle_Population_Data.csv']))\n",
        "print(df)"
      ],
      "metadata": {
        "colab": {
          "base_uri": "https://localhost:8080/"
        },
        "id": "lSKVIFLzeu6p",
        "outputId": "f2cbbba8-1a0d-4d62-bc7d-ec1b92a23547"
      },
      "execution_count": null,
      "outputs": [
        {
          "output_type": "stream",
          "name": "stdout",
          "text": [
            "        VIN (1-10)     County           City State  Postal Code  Model Year  \\\n",
            "0       5YJ3E1EA8J  San Diego      Oceanside    CA      92051.0        2018   \n",
            "1       3FA6P0PU7H   Sedgwick          Derby    KS      67037.0        2017   \n",
            "2       1N4AZ0CP8D  Snohomish     Marysville    WA      98271.0        2013   \n",
            "3       WBY8P8C58K     Kitsap      Bremerton    WA      98337.0        2019   \n",
            "4       5YJ3E1EA7K  Snohomish        Edmonds    WA      98026.0        2019   \n",
            "...            ...        ...            ...   ...          ...         ...   \n",
            "118954  5YJ3E1EB7N  Snohomish        Edmonds    WA      98020.0        2022   \n",
            "118955  1N4BZ0CP7H       King       Bellevue    WA      98004.0        2017   \n",
            "118956  1N4AZ1CP8J       King        Redmond    WA      98052.0        2018   \n",
            "118957  5YJXCAE41J       King        Seattle    WA      98109.0        2018   \n",
            "118958  YV4BR0CLXM     Island  Camano Island    WA      98282.0        2021   \n",
            "\n",
            "          Make    Model                   Electric Vehicle Type  \\\n",
            "0        TESLA  MODEL 3          Battery Electric Vehicle (BEV)   \n",
            "1         FORD   FUSION  Plug-in Hybrid Electric Vehicle (PHEV)   \n",
            "2       NISSAN     LEAF          Battery Electric Vehicle (BEV)   \n",
            "3          BMW       I3  Plug-in Hybrid Electric Vehicle (PHEV)   \n",
            "4        TESLA  MODEL 3          Battery Electric Vehicle (BEV)   \n",
            "...        ...      ...                                     ...   \n",
            "118954   TESLA  MODEL 3          Battery Electric Vehicle (BEV)   \n",
            "118955  NISSAN     LEAF          Battery Electric Vehicle (BEV)   \n",
            "118956  NISSAN     LEAF          Battery Electric Vehicle (BEV)   \n",
            "118957   TESLA  MODEL X          Battery Electric Vehicle (BEV)   \n",
            "118958   VOLVO     XC90  Plug-in Hybrid Electric Vehicle (PHEV)   \n",
            "\n",
            "        Clean Alternative Fuel Vehicle (CAFV) Eligibility  Electric Range  \\\n",
            "0                 Clean Alternative Fuel Vehicle Eligible             215   \n",
            "1                   Not eligible due to low battery range              21   \n",
            "2                 Clean Alternative Fuel Vehicle Eligible              75   \n",
            "3                 Clean Alternative Fuel Vehicle Eligible             126   \n",
            "4                 Clean Alternative Fuel Vehicle Eligible             220   \n",
            "...                                                   ...             ...   \n",
            "118954  Eligibility unknown as battery range has not b...               0   \n",
            "118955            Clean Alternative Fuel Vehicle Eligible             107   \n",
            "118956            Clean Alternative Fuel Vehicle Eligible             151   \n",
            "118957            Clean Alternative Fuel Vehicle Eligible             238   \n",
            "118958              Not eligible due to low battery range              18   \n",
            "\n",
            "        Base MSRP  Legislative District  DOL Vehicle ID  \\\n",
            "0               0                   NaN       153998050   \n",
            "1               0                   NaN       138214331   \n",
            "2               0                  38.0         3129059   \n",
            "3               0                  26.0       166525635   \n",
            "4               0                  32.0       475248315   \n",
            "...           ...                   ...             ...   \n",
            "118954          0                  21.0       187322495   \n",
            "118955          0                  48.0       349474394   \n",
            "118956          0                  45.0       292721068   \n",
            "118957          0                  36.0       144355970   \n",
            "118958          0                  10.0       149075293   \n",
            "\n",
            "                   Vehicle Location  \\\n",
            "0                               NaN   \n",
            "1        POINT (-97.27013 37.54531)   \n",
            "2       POINT (-122.19388 48.15353)   \n",
            "3         POINT (-122.62749 47.565)   \n",
            "4       POINT (-122.31768 47.87166)   \n",
            "...                             ...   \n",
            "118954  POINT (-122.37689 47.81116)   \n",
            "118955   POINT (-122.1872 47.61001)   \n",
            "118956  POINT (-122.13158 47.67858)   \n",
            "118957  POINT (-122.35022 47.63824)   \n",
            "118958  POINT (-122.40049 48.23986)   \n",
            "\n",
            "                                         Electric Utility  2020 Census Tract  \n",
            "0                                                     NaN       6.073019e+09  \n",
            "1                                                     NaN       2.017301e+10  \n",
            "2                                  PUGET SOUND ENERGY INC       5.306105e+10  \n",
            "3                                  PUGET SOUND ENERGY INC       5.303508e+10  \n",
            "4                                  PUGET SOUND ENERGY INC       5.306105e+10  \n",
            "...                                                   ...                ...  \n",
            "118954                             PUGET SOUND ENERGY INC       5.306105e+10  \n",
            "118955      PUGET SOUND ENERGY INC||CITY OF TACOMA - (WA)       5.303302e+10  \n",
            "118956      PUGET SOUND ENERGY INC||CITY OF TACOMA - (WA)       5.303303e+10  \n",
            "118957       CITY OF SEATTLE - (WA)|CITY OF TACOMA - (WA)       5.303301e+10  \n",
            "118958  BONNEVILLE POWER ADMINISTRATION||PUD 1 OF SNOH...       5.302997e+10  \n",
            "\n",
            "[118959 rows x 17 columns]\n"
          ]
        }
      ]
    },
    {
      "cell_type": "code",
      "source": [
        "print(df.info)"
      ],
      "metadata": {
        "colab": {
          "base_uri": "https://localhost:8080/"
        },
        "id": "t_NcDJKjGrOG",
        "outputId": "379b0608-5f4f-44e6-f742-8e81a0df8a1e"
      },
      "execution_count": null,
      "outputs": [
        {
          "output_type": "stream",
          "name": "stdout",
          "text": [
            "<bound method DataFrame.info of         VIN (1-10)     County           City State  Postal Code  Model Year  \\\n",
            "0       5YJ3E1EA8J  San Diego      Oceanside    CA      92051.0        2018   \n",
            "1       3FA6P0PU7H   Sedgwick          Derby    KS      67037.0        2017   \n",
            "2       1N4AZ0CP8D  Snohomish     Marysville    WA      98271.0        2013   \n",
            "3       WBY8P8C58K     Kitsap      Bremerton    WA      98337.0        2019   \n",
            "4       5YJ3E1EA7K  Snohomish        Edmonds    WA      98026.0        2019   \n",
            "...            ...        ...            ...   ...          ...         ...   \n",
            "118954  5YJ3E1EB7N  Snohomish        Edmonds    WA      98020.0        2022   \n",
            "118955  1N4BZ0CP7H       King       Bellevue    WA      98004.0        2017   \n",
            "118956  1N4AZ1CP8J       King        Redmond    WA      98052.0        2018   \n",
            "118957  5YJXCAE41J       King        Seattle    WA      98109.0        2018   \n",
            "118958  YV4BR0CLXM     Island  Camano Island    WA      98282.0        2021   \n",
            "\n",
            "          Make    Model                   Electric Vehicle Type  \\\n",
            "0        TESLA  MODEL 3          Battery Electric Vehicle (BEV)   \n",
            "1         FORD   FUSION  Plug-in Hybrid Electric Vehicle (PHEV)   \n",
            "2       NISSAN     LEAF          Battery Electric Vehicle (BEV)   \n",
            "3          BMW       I3  Plug-in Hybrid Electric Vehicle (PHEV)   \n",
            "4        TESLA  MODEL 3          Battery Electric Vehicle (BEV)   \n",
            "...        ...      ...                                     ...   \n",
            "118954   TESLA  MODEL 3          Battery Electric Vehicle (BEV)   \n",
            "118955  NISSAN     LEAF          Battery Electric Vehicle (BEV)   \n",
            "118956  NISSAN     LEAF          Battery Electric Vehicle (BEV)   \n",
            "118957   TESLA  MODEL X          Battery Electric Vehicle (BEV)   \n",
            "118958   VOLVO     XC90  Plug-in Hybrid Electric Vehicle (PHEV)   \n",
            "\n",
            "        Clean Alternative Fuel Vehicle (CAFV) Eligibility  Electric Range  \\\n",
            "0                 Clean Alternative Fuel Vehicle Eligible             215   \n",
            "1                   Not eligible due to low battery range              21   \n",
            "2                 Clean Alternative Fuel Vehicle Eligible              75   \n",
            "3                 Clean Alternative Fuel Vehicle Eligible             126   \n",
            "4                 Clean Alternative Fuel Vehicle Eligible             220   \n",
            "...                                                   ...             ...   \n",
            "118954  Eligibility unknown as battery range has not b...               0   \n",
            "118955            Clean Alternative Fuel Vehicle Eligible             107   \n",
            "118956            Clean Alternative Fuel Vehicle Eligible             151   \n",
            "118957            Clean Alternative Fuel Vehicle Eligible             238   \n",
            "118958              Not eligible due to low battery range              18   \n",
            "\n",
            "        Base MSRP  Legislative District  DOL Vehicle ID  \\\n",
            "0               0                   NaN       153998050   \n",
            "1               0                   NaN       138214331   \n",
            "2               0                  38.0         3129059   \n",
            "3               0                  26.0       166525635   \n",
            "4               0                  32.0       475248315   \n",
            "...           ...                   ...             ...   \n",
            "118954          0                  21.0       187322495   \n",
            "118955          0                  48.0       349474394   \n",
            "118956          0                  45.0       292721068   \n",
            "118957          0                  36.0       144355970   \n",
            "118958          0                  10.0       149075293   \n",
            "\n",
            "                   Vehicle Location  \\\n",
            "0                               NaN   \n",
            "1        POINT (-97.27013 37.54531)   \n",
            "2       POINT (-122.19388 48.15353)   \n",
            "3         POINT (-122.62749 47.565)   \n",
            "4       POINT (-122.31768 47.87166)   \n",
            "...                             ...   \n",
            "118954  POINT (-122.37689 47.81116)   \n",
            "118955   POINT (-122.1872 47.61001)   \n",
            "118956  POINT (-122.13158 47.67858)   \n",
            "118957  POINT (-122.35022 47.63824)   \n",
            "118958  POINT (-122.40049 48.23986)   \n",
            "\n",
            "                                         Electric Utility  2020 Census Tract  \n",
            "0                                                     NaN       6.073019e+09  \n",
            "1                                                     NaN       2.017301e+10  \n",
            "2                                  PUGET SOUND ENERGY INC       5.306105e+10  \n",
            "3                                  PUGET SOUND ENERGY INC       5.303508e+10  \n",
            "4                                  PUGET SOUND ENERGY INC       5.306105e+10  \n",
            "...                                                   ...                ...  \n",
            "118954                             PUGET SOUND ENERGY INC       5.306105e+10  \n",
            "118955      PUGET SOUND ENERGY INC||CITY OF TACOMA - (WA)       5.303302e+10  \n",
            "118956      PUGET SOUND ENERGY INC||CITY OF TACOMA - (WA)       5.303303e+10  \n",
            "118957       CITY OF SEATTLE - (WA)|CITY OF TACOMA - (WA)       5.303301e+10  \n",
            "118958  BONNEVILLE POWER ADMINISTRATION||PUD 1 OF SNOH...       5.302997e+10  \n",
            "\n",
            "[118959 rows x 17 columns]>\n"
          ]
        }
      ]
    },
    {
      "cell_type": "code",
      "source": [
        "print(df.shape)"
      ],
      "metadata": {
        "colab": {
          "base_uri": "https://localhost:8080/"
        },
        "id": "bzywe08mGyCV",
        "outputId": "08fcab52-0d2f-498c-9564-4d96a71f66da"
      },
      "execution_count": null,
      "outputs": [
        {
          "output_type": "stream",
          "name": "stdout",
          "text": [
            "(118959, 17)\n"
          ]
        }
      ]
    },
    {
      "cell_type": "code",
      "source": [
        "df.isnull().sum()"
      ],
      "metadata": {
        "colab": {
          "base_uri": "https://localhost:8080/"
        },
        "id": "5lFtNxmWG4ux",
        "outputId": "8ce6d7f8-6748-4915-db8a-ed202c1550a9"
      },
      "execution_count": null,
      "outputs": [
        {
          "output_type": "execute_result",
          "data": {
            "text/plain": [
              "VIN (1-10)                                             0\n",
              "County                                                 2\n",
              "City                                                   2\n",
              "State                                                  0\n",
              "Postal Code                                            2\n",
              "Model Year                                             0\n",
              "Make                                                   0\n",
              "Model                                                133\n",
              "Electric Vehicle Type                                  0\n",
              "Clean Alternative Fuel Vehicle (CAFV) Eligibility      0\n",
              "Electric Range                                         0\n",
              "Base MSRP                                              0\n",
              "Legislative District                                 294\n",
              "DOL Vehicle ID                                         0\n",
              "Vehicle Location                                      33\n",
              "Electric Utility                                     462\n",
              "2020 Census Tract                                      2\n",
              "dtype: int64"
            ]
          },
          "metadata": {},
          "execution_count": 18
        }
      ]
    },
    {
      "cell_type": "code",
      "source": [
        "df=df.dropna(subset=['City', 'Model Year'])\n",
        "print(df.shape)"
      ],
      "metadata": {
        "colab": {
          "base_uri": "https://localhost:8080/"
        },
        "id": "NLEfmU8hG-Go",
        "outputId": "00ecd7e3-959d-4568-8ef9-8d17c357023b"
      },
      "execution_count": null,
      "outputs": [
        {
          "output_type": "stream",
          "name": "stdout",
          "text": [
            "(118532, 17)\n"
          ]
        }
      ]
    },
    {
      "cell_type": "code",
      "source": [
        "#scatter plot\n",
        "plt.scatter(df['Electric Range'],df['Model Year'], c='blue', s=8)\n",
        "plt.xlabel(\"Electric Range\")\n",
        "plt.ylabel(\"Model Year (years)\")"
      ],
      "metadata": {
        "colab": {
          "base_uri": "https://localhost:8080/",
          "height": 296
        },
        "id": "35-lblKtHS45",
        "outputId": "5d6afdf1-bf47-48ff-ca54-d84dd0a58914"
      },
      "execution_count": null,
      "outputs": [
        {
          "output_type": "execute_result",
          "data": {
            "text/plain": [
              "Text(0, 0.5, 'Model Year (years)')"
            ]
          },
          "metadata": {},
          "execution_count": 27
        },
        {
          "output_type": "display_data",
          "data": {
            "text/plain": [
              "<Figure size 432x288 with 1 Axes>"
            ],
            "image/png": "[encoded data removed]"
          },
          "metadata": {
            "needs_background": "light"
          }
        }
      ]
    },
    {
      "cell_type": "code",
      "source": [
        "k=4\n",
        "X=np.array(list(zip(df['Model Year'], df['Electric Range'])))\n",
        "model=KMeans(n_clusters=k)\n",
        "kmeans=model.fit(X)\n",
        "labels=model.predict(X)\n",
        "centroids=model.cluster_centers_\n",
        "\n",
        "print(labels)\n",
        "print(centroids)\n"
      ],
      "metadata": {
        "colab": {
          "base_uri": "https://localhost:8080/"
        },
        "id": "seuUNx08HUns",
        "outputId": "991910ba-112b-4fac-8436-2a3f8f459013"
      },
      "execution_count": null,
      "outputs": [
        {
          "output_type": "stream",
          "name": "stdout",
          "text": [
            "[2 2 1 ... 2 1 0]\n",
            "[[2020.58530809    8.81869746]\n",
            " [2017.64720812  219.57409386]\n",
            " [2015.88102058   91.79047316]\n",
            " [2019.80004537  290.0289214 ]]\n"
          ]
        }
      ]
    },
    {
      "cell_type": "code",
      "source": [
        "#Plot the data and centroids on a scatter plot\n",
        "#map the labels to colors\n",
        "\n",
        "c=['m','g','b','r','y','c']\n",
        "colors=[c[i] for i in labels]\n",
        "\n",
        "plt.scatter(df['Model Year'], df['Electric Range'], c=colors, s=3)\n",
        "plt.scatter(centroids[:,0], centroids[:,1], marker='*', s=100, c='black')"
      ],
      "metadata": {
        "colab": {
          "base_uri": "https://localhost:8080/",
          "height": 284
        },
        "id": "cxetcsBFHZoP",
        "outputId": "baee90d1-c139-4f31-f094-8ba434d8b66a"
      },
      "execution_count": null,
      "outputs": [
        {
          "output_type": "execute_result",
          "data": {
            "text/plain": [
              "<matplotlib.collections.PathCollection at 0x7f5c000f3460>"
            ]
          },
          "metadata": {},
          "execution_count": 31
        },
        {
          "output_type": "display_data",
          "data": {
            "text/plain": [
              "<Figure size 432x288 with 1 Axes>"
            ],
            "image/png": "[encoded data removed]"
          },
          "metadata": {
            "needs_background": "light"
          }
        }
      ]
    },
    {
      "cell_type": "code",
      "source": [
        "#Using the model that you have just trained, \n",
        "#you can use it to predict what cluster for any data pt\n",
        "\n",
        "cluster=model.predict([[35,123]])[0]\n",
        "print(c[cluster])\n"
      ],
      "metadata": {
        "colab": {
          "base_uri": "https://localhost:8080/"
        },
        "id": "afPQrSDeHb5z",
        "outputId": "007dd441-dbf1-4b43-e5da-8c08e424f8a1"
      },
      "execution_count": null,
      "outputs": [
        {
          "output_type": "stream",
          "name": "stdout",
          "text": [
            "b\n"
          ]
        }
      ]
    },
    {
      "cell_type": "code",
      "source": [
        "#To determine the silhouette coefficient/score\n",
        "\n",
        "from sklearn.metrics import silhouette_score\n",
        "\n",
        "model=KMeans(n_clusters=4)\n",
        "model.fit(X)\n",
        "label=model.predict(X)\n",
        "\n",
        "print(f'silhouette Score (n=2): {silhouette_score(X,label)}')\n",
        "\n",
        "\n",
        "model=KMeans(n_clusters=3)\n",
        "model.fit(X)\n",
        "label=model.predict(X)\n",
        "\n",
        "print(f'silhouette Score (n=3): {silhouette_score(X,label)}')\n",
        "\n",
        "\n",
        "model=KMeans(n_clusters=4)\n",
        "model.fit(X)\n",
        "label=model.predict(X)\n",
        "\n",
        "print(f'silhouette Score (n=4): {silhouette_score(X,label)}')\n"
      ],
      "metadata": {
        "colab": {
          "base_uri": "https://localhost:8080/"
        },
        "id": "46LostXIHeqN",
        "outputId": "6d07ef99-7a14-4267-a530-17941df99667"
      },
      "execution_count": null,
      "outputs": [
        {
          "output_type": "stream",
          "name": "stdout",
          "text": [
            "silhouette Score (n=2): 0.7424385590107588\n",
            "silhouette Score (n=3): 0.75341607952851\n",
            "silhouette Score (n=4): 0.7232809410811128\n"
          ]
        }
      ]
    },
    {
      "cell_type": "code",
      "source": [
        "k=4\n",
        "X=np.array(list(zip(df['Model Year'],df['Electric Range'])))\n",
        "\n",
        "kmeans=KMeans(n_clusters=k)\n",
        "kmeans=kmeans.fit(X)\n",
        "labels=kmeans.predict(X)\n",
        "centroids=kmeans.cluster_centers_\n",
        "\n",
        "#map the labels to colors\n",
        "c=['b','r','y','g','c','m']\n",
        "colors=[c[i] for i in labels]\n",
        "\n",
        "plt.scatter(df['Model Year'],df['Electric Range'],c=colors,s=2)\n",
        "plt.scatter(centroids[:,0],centroids[:,1],marker='*',s=100,c='black')\n",
        "\n",
        "print(centroids)\n"
      ],
      "metadata": {
        "colab": {
          "base_uri": "https://localhost:8080/",
          "height": 336
        },
        "id": "1pENrJdbHm97",
        "outputId": "563ce47f-87ca-4815-8233-a4955cd6f218"
      },
      "execution_count": null,
      "outputs": [
        {
          "output_type": "stream",
          "name": "stdout",
          "text": [
            "[[2020.58530809    8.81869746]\n",
            " [2017.64720812  219.57409386]\n",
            " [2015.88102058   91.79047316]\n",
            " [2019.80004537  290.0289214 ]]\n"
          ]
        },
        {
          "output_type": "display_data",
          "data": {
            "text/plain": [
              "<Figure size 432x288 with 1 Axes>"
            ],
            "image/png": "[encoded data removed]"
          },
          "metadata": {
            "needs_background": "light"
          }
        }
      ]
    }
  ]
}