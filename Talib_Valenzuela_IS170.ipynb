{
  "nbformat": 4,
  "nbformat_minor": 0,
  "metadata": {
    "colab": {
      "provenance": [],
      "include_colab_link": true
    },
    "kernelspec": {
      "name": "python3",
      "display_name": "Python 3"
    },
    "language_info": {
      "name": "python"
    }
  },
  "cells": [
    {
      "cell_type": "markdown",
      "metadata": {
        "id": "view-in-github",
        "colab_type": "text"
      },
      "source": [
        "<a href=\"https://colab.research.google.com/github/celeneheng/IS170_Binder/blob/1-Feature-Engineeering/Talib_Valenzuela_IS170.ipynb\" target=\"_parent\"><img src=\"https://colab.research.google.com/assets/colab-badge.svg\" alt=\"Open In Colab\"/></a>"
      ]
    },
    {
      "cell_type": "markdown",
      "source": [
        "Mohammed Talib ----- Yadira Valenzuela"
      ],
      "metadata": {
        "id": "_0NzbOiBdOpu"
      }
    },
    {
      "cell_type": "code",
      "execution_count": null,
      "metadata": {
        "colab": {
          "base_uri": "https://localhost:8080/"
        },
        "id": "UFvNKdq6cD7y",
        "outputId": "2d33d1d6-7c09-4ffd-def0-1a2c5cf87fa4"
      },
      "outputs": [
        {
          "output_type": "stream",
          "name": "stdout",
          "text": [
            "Hello Fresno State\n"
          ]
        }
      ],
      "source": [
        "print('Hello Fresno State')\n"
      ]
    },
    {
      "cell_type": "code",
      "source": [
        "print(2+8)\n"
      ],
      "metadata": {
        "colab": {
          "base_uri": "https://localhost:8080/"
        },
        "id": "Bdi37OFacqkD",
        "outputId": "166eaac8-882b-4c47-a575-7bb0233beddc"
      },
      "execution_count": null,
      "outputs": [
        {
          "output_type": "stream",
          "name": "stdout",
          "text": [
            "10\n"
          ]
        }
      ]
    },
    {
      "cell_type": "code",
      "source": [
        "print(85-48)"
      ],
      "metadata": {
        "colab": {
          "base_uri": "https://localhost:8080/"
        },
        "id": "631QVJxFcvKu",
        "outputId": "4ee79f14-3505-4787-fb2e-2726ba59dd9f"
      },
      "execution_count": null,
      "outputs": [
        {
          "output_type": "stream",
          "name": "stdout",
          "text": [
            "37\n"
          ]
        }
      ]
    },
    {
      "cell_type": "code",
      "source": [
        "print(6*2)"
      ],
      "metadata": {
        "colab": {
          "base_uri": "https://localhost:8080/"
        },
        "id": "Z86g1kaQczVt",
        "outputId": "6ecd3218-3ede-40ae-a7b7-47bfc9bd7b22"
      },
      "execution_count": null,
      "outputs": [
        {
          "output_type": "stream",
          "name": "stdout",
          "text": [
            "12\n"
          ]
        }
      ]
    },
    {
      "cell_type": "code",
      "source": [
        "print(20/5)"
      ],
      "metadata": {
        "colab": {
          "base_uri": "https://localhost:8080/"
        },
        "id": "Wg5Xbe-1c1w8",
        "outputId": "56352803-38d3-4880-ea29-7b50a7df377c"
      },
      "execution_count": null,
      "outputs": [
        {
          "output_type": "stream",
          "name": "stdout",
          "text": [
            "4.0\n"
          ]
        }
      ]
    },
    {
      "cell_type": "code",
      "source": [
        "print(2+7+8)"
      ],
      "metadata": {
        "colab": {
          "base_uri": "https://localhost:8080/"
        },
        "id": "kmUQ75UUc3_p",
        "outputId": "56a65f38-5c85-4013-bdf9-ce3bf032a3dc"
      },
      "execution_count": null,
      "outputs": [
        {
          "output_type": "stream",
          "name": "stdout",
          "text": [
            "17\n"
          ]
        }
      ]
    },
    {
      "cell_type": "code",
      "source": [
        "print(8-2*4)"
      ],
      "metadata": {
        "colab": {
          "base_uri": "https://localhost:8080/"
        },
        "id": "XvKX7sPoc96p",
        "outputId": "48c905f0-4391-4374-c159-e8f1b34cee5f"
      },
      "execution_count": null,
      "outputs": [
        {
          "output_type": "stream",
          "name": "stdout",
          "text": [
            "0\n"
          ]
        }
      ]
    },
    {
      "cell_type": "code",
      "source": [
        "print((7-2)*3)"
      ],
      "metadata": {
        "colab": {
          "base_uri": "https://localhost:8080/"
        },
        "id": "8H3JfkkHdAWo",
        "outputId": "4f3b2bb3-abdb-4920-d349-01f3090220c8"
      },
      "execution_count": null,
      "outputs": [
        {
          "output_type": "stream",
          "name": "stdout",
          "text": [
            "15\n"
          ]
        }
      ]
    },
    {
      "cell_type": "code",
      "source": [
        "print(4*4*4)"
      ],
      "metadata": {
        "colab": {
          "base_uri": "https://localhost:8080/"
        },
        "id": "kY74GXxqdEI_",
        "outputId": "3c16d7cc-a955-4891-8cab-fe1319ee63cf"
      },
      "execution_count": null,
      "outputs": [
        {
          "output_type": "stream",
          "name": "stdout",
          "text": [
            "64\n"
          ]
        }
      ]
    },
    {
      "cell_type": "code",
      "source": [
        "print(4**3)"
      ],
      "metadata": {
        "colab": {
          "base_uri": "https://localhost:8080/"
        },
        "id": "k281BiZQdF3M",
        "outputId": "7e8485a9-6c64-4c94-c09d-1e3ca0f08b25"
      },
      "execution_count": null,
      "outputs": [
        {
          "output_type": "stream",
          "name": "stdout",
          "text": [
            "64\n"
          ]
        }
      ]
    },
    {
      "cell_type": "code",
      "source": [
        "print(3*4-3)"
      ],
      "metadata": {
        "id": "kQi1_ybudj_h"
      },
      "execution_count": null,
      "outputs": []
    },
    {
      "cell_type": "code",
      "source": [
        "print((2*4)-3)"
      ],
      "metadata": {
        "id": "xV34L2tCdn8V"
      },
      "execution_count": null,
      "outputs": []
    },
    {
      "cell_type": "code",
      "source": [
        "print(15/(7-2))"
      ],
      "metadata": {
        "id": "mz1UCMkodq0-"
      },
      "execution_count": null,
      "outputs": []
    },
    {
      "cell_type": "code",
      "source": [
        "print(7+5-3)"
      ],
      "metadata": {
        "id": "oDXC_eQxdvoh"
      },
      "execution_count": null,
      "outputs": []
    },
    {
      "cell_type": "code",
      "source": [
        "print((7+5)-3)"
      ],
      "metadata": {
        "id": "zEmLvQe3dxyj"
      },
      "execution_count": null,
      "outputs": []
    },
    {
      "cell_type": "code",
      "source": [
        "print((7*2)-(2+2))"
      ],
      "metadata": {
        "colab": {
          "base_uri": "https://localhost:8080/"
        },
        "id": "pasryonhd2M1",
        "outputId": "83ce276b-50f3-4d69-dccd-f1247aeaade7"
      },
      "execution_count": null,
      "outputs": [
        {
          "output_type": "stream",
          "name": "stdout",
          "text": [
            "10\n"
          ]
        }
      ]
    },
    {
      "cell_type": "code",
      "source": [
        "print((3+2)**(4-2))"
      ],
      "metadata": {
        "id": "-9bISI8md6vM",
        "colab": {
          "base_uri": "https://localhost:8080/"
        },
        "outputId": "10ebb306-ef04-4f15-fe61-7639d3091909"
      },
      "execution_count": 1,
      "outputs": [
        {
          "output_type": "stream",
          "name": "stdout",
          "text": [
            "25\n"
          ]
        }
      ]
    },
    {
      "cell_type": "code",
      "source": [
        "print('8+3')"
      ],
      "metadata": {
        "id": "hekermSGeIhe"
      },
      "execution_count": null,
      "outputs": []
    },
    {
      "cell_type": "code",
      "source": [
        "print(('7+5='), (7+5))"
      ],
      "metadata": {
        "id": "HFDbLJFNeKuH"
      },
      "execution_count": null,
      "outputs": []
    },
    {
      "cell_type": "code",
      "source": [
        "print((7*8*2),('is the answer to 7 * 8 * 2'))"
      ],
      "metadata": {
        "colab": {
          "base_uri": "https://localhost:8080/"
        },
        "id": "zv3X0_DneRXn",
        "outputId": "09e3fb25-276c-4f67-e9bb-a5318c8e3530"
      },
      "execution_count": null,
      "outputs": [
        {
          "output_type": "stream",
          "name": "stdout",
          "text": [
            "112 is the answer to 7 * 8 * 2\n"
          ]
        }
      ]
    },
    {
      "cell_type": "code",
      "source": [
        "year=2021\n",
        "print(year)\n",
        "print(year+6)\n",
        "print(year-3)\n",
        "print((year-2)+10)\n",
        "print(('The current year is '), (year))\n",
        "print(('Two years from now it will be'),(year+2))\n",
        "year=2021\n",
        "name=('Fresno')\n",
        "name=('State')"
      ],
      "metadata": {
        "colab": {
          "base_uri": "https://localhost:8080/"
        },
        "id": "dP66EG1TeoJq",
        "outputId": "ae221cd3-b668-4edf-c01d-c245b5fc5a80"
      },
      "execution_count": null,
      "outputs": [
        {
          "output_type": "stream",
          "name": "stdout",
          "text": [
            "2021\n",
            "2027\n",
            "2018\n",
            "2029\n",
            "The current year is  2021\n",
            "Two years from now it will be 2023\n"
          ]
        }
      ]
    },
    {
      "cell_type": "code",
      "source": [
        "name = input('Please enter your last name:  ')"
      ],
      "metadata": {
        "id": "7dgwD7ZZfj04"
      },
      "execution_count": null,
      "outputs": []
    },
    {
      "cell_type": "code",
      "source": [
        "a=1+4\n",
        "b=5+9\n",
        "c=a+b\n",
        "c=c+1"
      ],
      "metadata": {
        "id": "gmPYfzoRf4ns"
      },
      "execution_count": null,
      "outputs": []
    },
    {
      "cell_type": "code",
      "source": [
        "a=10\n",
        "b=5\n",
        "result=a+b\n",
        "print((a), ('+'), (b), ('='), (result))"
      ],
      "metadata": {
        "colab": {
          "base_uri": "https://localhost:8080/"
        },
        "id": "jTLRBiEmgPfG",
        "outputId": "04cdc55d-bc15-49c0-f0ff-202ac6ed864c"
      },
      "execution_count": null,
      "outputs": [
        {
          "output_type": "stream",
          "name": "stdout",
          "text": [
            "10 + 5 = 15\n"
          ]
        }
      ]
    },
    {
      "cell_type": "markdown",
      "source": [
        "PROGRAM 1"
      ],
      "metadata": {
        "id": "z5x0SvHzpM4c"
      }
    },
    {
      "cell_type": "code",
      "source": [
        "#This Program displays gross pay\n",
        "#Get the number of hours worked\n",
        "hours=int(input('Enter the hours worked this week:'))\n",
        "\n",
        "#Get the hourly Pay rate.\n",
        "pay_rate=float(input('Enter the hourly pay rate:'))\n",
        "\n",
        "#Calculate Gross pay\n",
        "gross_pay=hours * pay_rate\n",
        "\n",
        "#Display the gross pay\n",
        "print(f'Gross pay: ${gross_pay:,.2f}')"
      ],
      "metadata": {
        "colab": {
          "base_uri": "https://localhost:8080/"
        },
        "id": "vLEG4MEXgTgp",
        "outputId": "c4c6b5ab-d395-476f-fec2-1b9907b45fd9"
      },
      "execution_count": 2,
      "outputs": [
        {
          "output_type": "stream",
          "name": "stdout",
          "text": [
            "Enter the hours worked this week:40\n",
            "Enter the hourly pay rate:15\n",
            "Gross pay: $600.00\n"
          ]
        }
      ]
    },
    {
      "cell_type": "code",
      "source": [
        "#This Program displays gross pay\n",
        "\n",
        "#Retrieves Name\n",
        "name=(input('Enter Your name here'))\n",
        "\n",
        "#Get the number of hours worked\n",
        "hours=int(input('Enter the hours worked this week:'))\n",
        "\n",
        "#Get the hourly Pay rate.\n",
        "pay_rate=float(input('Enter the hourly pay rate:'))\n",
        "\n",
        "\n",
        "\n",
        "#Displays entered name\n",
        "print('Please enter the worker fullname: ', (name))\n",
        "\n",
        "#Calculate Gross pay\n",
        "gross_pay=hours * pay_rate\n",
        "\n",
        "#Display the gross pay\n",
        "print((\"Gross pay: \" ), (gross_pay))\n",
        "\n",
        "\n",
        "#Get the number of Overtime Hours worked\n",
        "ohours=int(input('Enter the overtime hours worked this week: '))\n",
        "\n",
        "#Get the Overtime Rate for ohours\n",
        "opay_rate=float(input('Enter the Hourly Overtime pay rate: '))\n",
        "\n",
        "# Calculate Overtime pay\n",
        "overtime_pay=ohours*opay_rate\n",
        "\n",
        "\n",
        "\n",
        "\n",
        "\n",
        "\n",
        "#display Overtime pay\n",
        "print(f'Overtime pay: ${overtime_pay:,.2f}')\n",
        "\n",
        "#Calculate combined pay\n",
        "combined_pay=overtime_pay+gross_pay\n",
        "\n",
        "#Display the combined pays\n",
        "print((name),(','),('your total gross pay is: '), f'${combined_pay:,.2f}')\n",
        "\n",
        "\n",
        "\n"
      ],
      "metadata": {
        "colab": {
          "base_uri": "https://localhost:8080/"
        },
        "outputId": "24f1e1cc-0ec5-4da6-d08b-d98602a2dc7c",
        "id": "S-tk9k70iSXp"
      },
      "execution_count": null,
      "outputs": [
        {
          "output_type": "stream",
          "name": "stdout",
          "text": [
            "Enter Your name heremohammed\n",
            "Enter the hours worked this week:12\n",
            "Enter the hourly pay rate:14\n",
            "Please enter the worker fullname:  mohammed\n",
            "Gross pay:  168.0\n",
            "Enter the overtime hours worked this week: 12\n",
            "Enter the Hourly Overtime pay rate: 10\n",
            "Overtime pay: $120.00\n",
            "mohammed , your total gross pay is:  $288.00\n"
          ]
        }
      ]
    },
    {
      "cell_type": "markdown",
      "source": [
        "IF statements\n"
      ],
      "metadata": {
        "id": "rj4hpNjhpHbt"
      }
    },
    {
      "cell_type": "code",
      "source": [
        "if 10==10:      #hit the enter key after this line\n",
        "  print('equal')    #you MUST hit tab on your keyboard to indent the statement"
      ],
      "metadata": {
        "id": "qy2jo_wzpQrG",
        "colab": {
          "base_uri": "https://localhost:8080/"
        },
        "outputId": "34ba4ac2-d741-40b0-b10b-be61239bc16e"
      },
      "execution_count": null,
      "outputs": [
        {
          "output_type": "stream",
          "name": "stdout",
          "text": [
            "equal\n"
          ]
        }
      ]
    },
    {
      "cell_type": "code",
      "source": [
        "if(5*2)==10:\n",
        "  print('The expression is equal')\n",
        "\n",
        "if(8+3)!=10:\n",
        "  print('Not equal')\n",
        "\n",
        "if 8>5:\n",
        "  print('8 is greater than 5')\n",
        "\n",
        "if 8<5:\n",
        "  print('8 is less than 5')"
      ],
      "metadata": {
        "colab": {
          "base_uri": "https://localhost:8080/"
        },
        "id": "Vn4ZQ1mfpg_5",
        "outputId": "b20b89b8-2ce3-469b-f48c-b0c230ae87b9"
      },
      "execution_count": null,
      "outputs": [
        {
          "output_type": "stream",
          "name": "stdout",
          "text": [
            "The expression is equal\n",
            "Not equal\n",
            "8 is greater than 5\n"
          ]
        }
      ]
    },
    {
      "cell_type": "code",
      "source": [
        "del print"
      ],
      "metadata": {
        "id": "Q-A7Mq9quxfA"
      },
      "execution_count": null,
      "outputs": []
    },
    {
      "cell_type": "code",
      "source": [
        "a=6\n",
        "b=7\n",
        "c=3\n",
        "d=('Fresno')\n",
        "e=('State')\n",
        "if a==(c*2):\n",
        "  print('6=3*2')"
      ],
      "metadata": {
        "colab": {
          "base_uri": "https://localhost:8080/"
        },
        "id": "hAHtdk5WuUSh",
        "outputId": "e2cff6e6-b5a3-4ce2-b5f8-60cb2546feea"
      },
      "execution_count": null,
      "outputs": [
        {
          "output_type": "stream",
          "name": "stdout",
          "text": [
            "6=3*2\n"
          ]
        }
      ]
    },
    {
      "cell_type": "code",
      "source": [
        "if d!=e:\n",
        "  print('The names are not the same')\n",
        "  b=9 \n",
        "  print('b has been set to 9')"
      ],
      "metadata": {
        "id": "JdRf1kytvEix"
      },
      "execution_count": null,
      "outputs": []
    },
    {
      "cell_type": "code",
      "source": [
        "a=10\n",
        "b=5\n",
        "operation=('unknown')\n",
        "result=('???')\n",
        "print('Which operatiion should I perform + or -?')\n",
        "operation=input()\n",
        "if operation==('+'):\n",
        "  result=a+b\n",
        "if operation==('-'):\n",
        "  result=a-b\n",
        "print((a),(operation),(b),('='),(result))\n"
      ],
      "metadata": {
        "colab": {
          "base_uri": "https://localhost:8080/"
        },
        "id": "o5igXdUtvHJl",
        "outputId": "c59cb72d-ce82-4b82-9d0b-49f2237efbce"
      },
      "execution_count": null,
      "outputs": [
        {
          "output_type": "stream",
          "name": "stdout",
          "text": [
            "Which operatiion should I perform + or -?\n",
            "+\n",
            "10 + 5 = 15\n"
          ]
        }
      ]
    },
    {
      "cell_type": "markdown",
      "source": [
        "PYTHON PROGRAM II"
      ],
      "metadata": {
        "id": "nBqev0LswJCd"
      }
    },
    {
      "cell_type": "code",
      "source": [
        "name = input (\"Please enter your last name:  \") #retrieves name\n",
        "print (\"Please enter a number\") \n",
        "a=eval(input()) #numbers for operation\n",
        "print (\"Please enter another number\")\n",
        "b=eval(input())\n",
        "operation = (\"unknown operation\")\n",
        "result=(\"???\")\n",
        "print (\"Which operation should I perform (+), (-), (*), (/), or (**) ?\")\n",
        "operation=input()\n",
        "if operation==(\"+\"):\n",
        "    result=a+b          #hit the tab to indent                 \n",
        "if operation==(\"-\"):\n",
        "    result=a-b       \n",
        "if operation==(\"*\"):\n",
        "    result=a*b                          \n",
        "if operation==(\"/\"):\n",
        "    result=a/b\n",
        "if operation==(\"**\"):\n",
        "    result=a**b                          \n",
        "print ((name), \"here is your answer\", (a), (operation), (b) ,(\"=\"),(result))"
      ],
      "metadata": {
        "id": "HNZRp_ZswL-P",
        "colab": {
          "base_uri": "https://localhost:8080/"
        },
        "outputId": "96d216e3-2656-4c4a-e39c-d3ffe8246b15"
      },
      "execution_count": null,
      "outputs": [
        {
          "output_type": "stream",
          "name": "stdout",
          "text": [
            "Please enter your last name:  talib\n",
            "Please enter a number\n",
            "12\n",
            "Please enter another number\n",
            "112\n",
            "Which operation should I perform (+), (-), (*), (/), or (**) ?\n",
            "/\n",
            "talib here is your answer 12 / 112 = 0.10714285714285714\n"
          ]
        }
      ]
    },
    {
      "cell_type": "markdown",
      "source": [
        "Pandas Ch 1 gapminder"
      ],
      "metadata": {
        "id": "sfL6Ywhvs0zz"
      }
    },
    {
      "cell_type": "code",
      "source": [
        "import pandas\n",
        "import io\n",
        "import pandas as pd\n",
        "df = files.upload()"
      ],
      "metadata": {
        "colab": {
          "base_uri": "https://localhost:8080/",
          "height": 73
        },
        "id": "CA7N4rcQwrN9",
        "outputId": "c6b7840a-7ff5-413f-89c5-5682676e2301"
      },
      "execution_count": null,
      "outputs": [
        {
          "output_type": "display_data",
          "data": {
            "text/plain": [
              "<IPython.core.display.HTML object>"
            ],
            "text/html": [
              "\n",
              "     <input type=\"file\" id=\"files-16d7078b-2e32-4be5-abe3-4b41e0d213c1\" name=\"files[]\" multiple disabled\n",
              "        style=\"border:none\" />\n",
              "     <output id=\"result-16d7078b-2e32-4be5-abe3-4b41e0d213c1\">\n",
              "      Upload widget is only available when the cell has been executed in the\n",
              "      current browser session. Please rerun this cell to enable.\n",
              "      </output>\n",
              "      <script>// Copyright 2017 Google LLC\n",
              "//\n",
              "// Licensed under the Apache License, Version 2.0 (the \"License\");\n",
              "// you may not use this file except in compliance with the License.\n",
              "// You may obtain a copy of the License at\n",
              "//\n",
              "//      http://www.apache.org/licenses/LICENSE-2.0\n",
              "//\n",
              "// Unless required by applicable law or agreed to in writing, software\n",
              "// distributed under the License is distributed on an \"AS IS\" BASIS,\n",
              "// WITHOUT WARRANTIES OR CONDITIONS OF ANY KIND, either express or implied.\n",
              "// See the License for the specific language governing permissions and\n",
              "// limitations under the License.\n",
              "\n",
              "/**\n",
              " * @fileoverview Helpers for google.colab Python module.\n",
              " */\n",
              "(function(scope) {\n",
              "function span(text, styleAttributes = {}) {\n",
              "  const element = document.createElement('span');\n",
              "  element.textContent = text;\n",
              "  for (const key of Object.keys(styleAttributes)) {\n",
              "    element.style[key] = styleAttributes[key];\n",
              "  }\n",
              "  return element;\n",
              "}\n",
              "\n",
              "// Max number of bytes which will be uploaded at a time.\n",
              "const MAX_PAYLOAD_SIZE = 100 * 1024;\n",
              "\n",
              "function _uploadFiles(inputId, outputId) {\n",
              "  const steps = uploadFilesStep(inputId, outputId);\n",
              "  const outputElement = document.getElementById(outputId);\n",
              "  // Cache steps on the outputElement to make it available for the next call\n",
              "  // to uploadFilesContinue from Python.\n",
              "  outputElement.steps = steps;\n",
              "\n",
              "  return _uploadFilesContinue(outputId);\n",
              "}\n",
              "\n",
              "// This is roughly an async generator (not supported in the browser yet),\n",
              "// where there are multiple asynchronous steps and the Python side is going\n",
              "// to poll for completion of each step.\n",
              "// This uses a Promise to block the python side on completion of each step,\n",
              "// then passes the result of the previous step as the input to the next step.\n",
              "function _uploadFilesContinue(outputId) {\n",
              "  const outputElement = document.getElementById(outputId);\n",
              "  const steps = outputElement.steps;\n",
              "\n",
              "  const next = steps.next(outputElement.lastPromiseValue);\n",
              "  return Promise.resolve(next.value.promise).then((value) => {\n",
              "    // Cache the last promise value to make it available to the next\n",
              "    // step of the generator.\n",
              "    outputElement.lastPromiseValue = value;\n",
              "    return next.value.response;\n",
              "  });\n",
              "}\n",
              "\n",
              "/**\n",
              " * Generator function which is called between each async step of the upload\n",
              " * process.\n",
              " * @param {string} inputId Element ID of the input file picker element.\n",
              " * @param {string} outputId Element ID of the output display.\n",
              " * @return {!Iterable<!Object>} Iterable of next steps.\n",
              " */\n",
              "function* uploadFilesStep(inputId, outputId) {\n",
              "  const inputElement = document.getElementById(inputId);\n",
              "  inputElement.disabled = false;\n",
              "\n",
              "  const outputElement = document.getElementById(outputId);\n",
              "  outputElement.innerHTML = '';\n",
              "\n",
              "  const pickedPromise = new Promise((resolve) => {\n",
              "    inputElement.addEventListener('change', (e) => {\n",
              "      resolve(e.target.files);\n",
              "    });\n",
              "  });\n",
              "\n",
              "  const cancel = document.createElement('button');\n",
              "  inputElement.parentElement.appendChild(cancel);\n",
              "  cancel.textContent = 'Cancel upload';\n",
              "  const cancelPromise = new Promise((resolve) => {\n",
              "    cancel.onclick = () => {\n",
              "      resolve(null);\n",
              "    };\n",
              "  });\n",
              "\n",
              "  // Wait for the user to pick the files.\n",
              "  const files = yield {\n",
              "    promise: Promise.race([pickedPromise, cancelPromise]),\n",
              "    response: {\n",
              "      action: 'starting',\n",
              "    }\n",
              "  };\n",
              "\n",
              "  cancel.remove();\n",
              "\n",
              "  // Disable the input element since further picks are not allowed.\n",
              "  inputElement.disabled = true;\n",
              "\n",
              "  if (!files) {\n",
              "    return {\n",
              "      response: {\n",
              "        action: 'complete',\n",
              "      }\n",
              "    };\n",
              "  }\n",
              "\n",
              "  for (const file of files) {\n",
              "    const li = document.createElement('li');\n",
              "    li.append(span(file.name, {fontWeight: 'bold'}));\n",
              "    li.append(span(\n",
              "        `(${file.type || 'n/a'}) - ${file.size} bytes, ` +\n",
              "        `last modified: ${\n",
              "            file.lastModifiedDate ? file.lastModifiedDate.toLocaleDateString() :\n",
              "                                    'n/a'} - `));\n",
              "    const percent = span('0% done');\n",
              "    li.appendChild(percent);\n",
              "\n",
              "    outputElement.appendChild(li);\n",
              "\n",
              "    const fileDataPromise = new Promise((resolve) => {\n",
              "      const reader = new FileReader();\n",
              "      reader.onload = (e) => {\n",
              "        resolve(e.target.result);\n",
              "      };\n",
              "      reader.readAsArrayBuffer(file);\n",
              "    });\n",
              "    // Wait for the data to be ready.\n",
              "    let fileData = yield {\n",
              "      promise: fileDataPromise,\n",
              "      response: {\n",
              "        action: 'continue',\n",
              "      }\n",
              "    };\n",
              "\n",
              "    // Use a chunked sending to avoid message size limits. See b/62115660.\n",
              "    let position = 0;\n",
              "    do {\n",
              "      const length = Math.min(fileData.byteLength - position, MAX_PAYLOAD_SIZE);\n",
              "      const chunk = new Uint8Array(fileData, position, length);\n",
              "      position += length;\n",
              "\n",
              "      const base64 = btoa(String.fromCharCode.apply(null, chunk));\n",
              "      yield {\n",
              "        response: {\n",
              "          action: 'append',\n",
              "          file: file.name,\n",
              "          data: base64,\n",
              "        },\n",
              "      };\n",
              "\n",
              "      let percentDone = fileData.byteLength === 0 ?\n",
              "          100 :\n",
              "          Math.round((position / fileData.byteLength) * 100);\n",
              "      percent.textContent = `${percentDone}% done`;\n",
              "\n",
              "    } while (position < fileData.byteLength);\n",
              "  }\n",
              "\n",
              "  // All done.\n",
              "  yield {\n",
              "    response: {\n",
              "      action: 'complete',\n",
              "    }\n",
              "  };\n",
              "}\n",
              "\n",
              "scope.google = scope.google || {};\n",
              "scope.google.colab = scope.google.colab || {};\n",
              "scope.google.colab._files = {\n",
              "  _uploadFiles,\n",
              "  _uploadFilesContinue,\n",
              "};\n",
              "})(self);\n",
              "</script> "
            ]
          },
          "metadata": {}
        },
        {
          "output_type": "stream",
          "name": "stdout",
          "text": [
            "Saving gapminder.csv to gapminder (7).csv\n"
          ]
        }
      ]
    },
    {
      "cell_type": "code",
      "source": [
        "df = pandas.read_csv(io.BytesIO(uploaded['gapminder.csv']))\n",
        "print(df)"
      ],
      "metadata": {
        "colab": {
          "base_uri": "https://localhost:8080/"
        },
        "id": "3t0UETZQzivZ",
        "outputId": "37e17244-234a-4fb7-e271-e2e45f58eb70"
      },
      "execution_count": null,
      "outputs": [
        {
          "output_type": "stream",
          "name": "stdout",
          "text": [
            "          country continent  year  lifeExp       pop   gdpPercap\n",
            "0     Afghanistan      Asia  1952   28.801   8425333  779.445314\n",
            "1     Afghanistan      Asia  1957   30.332   9240934  820.853030\n",
            "2     Afghanistan      Asia  1962   31.997  10267083  853.100710\n",
            "3     Afghanistan      Asia  1967   34.020  11537966  836.197138\n",
            "4     Afghanistan      Asia  1972   36.088  13079460  739.981106\n",
            "...           ...       ...   ...      ...       ...         ...\n",
            "1699     Zimbabwe    Africa  1987   62.351   9216418  706.157306\n",
            "1700     Zimbabwe    Africa  1992   60.377  10704340  693.420786\n",
            "1701     Zimbabwe    Africa  1997   46.809  11404948  792.449960\n",
            "1702     Zimbabwe    Africa  2002   39.989  11926563  672.038623\n",
            "1703     Zimbabwe    Africa  2007   43.487  12311143  469.709298\n",
            "\n",
            "[1704 rows x 6 columns]\n"
          ]
        }
      ]
    },
    {
      "cell_type": "code",
      "source": [
        "df = pd.read_csv('gapminder.csv', sep='\\t')\n",
        "print(type(df))"
      ],
      "metadata": {
        "colab": {
          "base_uri": "https://localhost:8080/"
        },
        "id": "YQyLpwJR0HgV",
        "outputId": "5967caf3-c110-4098-b4a1-788e4ffca7b3"
      },
      "execution_count": null,
      "outputs": [
        {
          "output_type": "stream",
          "name": "stdout",
          "text": [
            "<class 'pandas.core.frame.DataFrame'>\n"
          ]
        }
      ]
    },
    {
      "cell_type": "code",
      "source": [
        "#get the number of rows and columns !!!! ERROR!!!!!!!!!!!!!!!!!!!!!!!!!!!!!!!!!!!!! why is it not 6?\n",
        "print(df.shape)"
      ],
      "metadata": {
        "colab": {
          "base_uri": "https://localhost:8080/"
        },
        "id": "p1CQQIx411Y7",
        "outputId": "a7410235-7144-4813-84ca-2c1a31fad56f"
      },
      "execution_count": null,
      "outputs": [
        {
          "output_type": "stream",
          "name": "stdout",
          "text": [
            "(1704, 1)\n"
          ]
        }
      ]
    },
    {
      "cell_type": "code",
      "source": [
        "#shape is an attribute, not a method this will cause an error\n",
        "print(df.shape())"
      ],
      "metadata": {
        "colab": {
          "base_uri": "https://localhost:8080/",
          "height": 183
        },
        "id": "9Z37ceE82CWG",
        "outputId": "93cab4f0-4359-43aa-8823-6f645f382c15"
      },
      "execution_count": null,
      "outputs": [
        {
          "output_type": "error",
          "ename": "TypeError",
          "evalue": "ignored",
          "traceback": [
            "\u001b[0;31m---------------------------------------------------------------------------\u001b[0m",
            "\u001b[0;31mTypeError\u001b[0m                                 Traceback (most recent call last)",
            "\u001b[0;32m<ipython-input-42-1c2d01c0bae1>\u001b[0m in \u001b[0;36m<module>\u001b[0;34m\u001b[0m\n\u001b[1;32m      1\u001b[0m \u001b[0;31m#shape is an attribute, not a method this will cause an error\u001b[0m\u001b[0;34m\u001b[0m\u001b[0;34m\u001b[0m\u001b[0;34m\u001b[0m\u001b[0m\n\u001b[0;32m----> 2\u001b[0;31m \u001b[0mprint\u001b[0m\u001b[0;34m(\u001b[0m\u001b[0mdf\u001b[0m\u001b[0;34m.\u001b[0m\u001b[0mshape\u001b[0m\u001b[0;34m(\u001b[0m\u001b[0;34m)\u001b[0m\u001b[0;34m)\u001b[0m\u001b[0;34m\u001b[0m\u001b[0;34m\u001b[0m\u001b[0m\n\u001b[0m",
            "\u001b[0;31mTypeError\u001b[0m: 'tuple' object is not callable"
          ]
        }
      ]
    },
    {
      "cell_type": "code",
      "source": [
        "#get column names\n",
        "print(df.columns)"
      ],
      "metadata": {
        "colab": {
          "base_uri": "https://localhost:8080/",
          "height": 184
        },
        "id": "ac_9P-Hf2jSS",
        "outputId": "a4e60064-ad38-4bae-ade3-0f7d2744b213"
      },
      "execution_count": null,
      "outputs": [
        {
          "output_type": "error",
          "ename": "NameError",
          "evalue": "ignored",
          "traceback": [
            "\u001b[0;31m---------------------------------------------------------------------------\u001b[0m",
            "\u001b[0;31mNameError\u001b[0m                                 Traceback (most recent call last)",
            "\u001b[0;32m<ipython-input-1-d43ab6e9e76b>\u001b[0m in \u001b[0;36m<module>\u001b[0;34m\u001b[0m\n\u001b[1;32m      1\u001b[0m \u001b[0;31m#get column names\u001b[0m\u001b[0;34m\u001b[0m\u001b[0;34m\u001b[0m\u001b[0;34m\u001b[0m\u001b[0m\n\u001b[0;32m----> 2\u001b[0;31m \u001b[0mprint\u001b[0m\u001b[0;34m(\u001b[0m\u001b[0mdf\u001b[0m\u001b[0;34m.\u001b[0m\u001b[0mcolumns\u001b[0m\u001b[0;34m)\u001b[0m\u001b[0;34m\u001b[0m\u001b[0;34m\u001b[0m\u001b[0m\n\u001b[0m",
            "\u001b[0;31mNameError\u001b[0m: name 'df' is not defined"
          ]
        }
      ]
    },
    {
      "cell_type": "code",
      "source": [
        "# get the dtype of each column\n",
        "print(df.dtypes)"
      ],
      "metadata": {
        "colab": {
          "base_uri": "https://localhost:8080/"
        },
        "id": "05u3P-SY6CvM",
        "outputId": "e04f961c-850c-4a1c-c401-2e95fb623b4a"
      },
      "execution_count": null,
      "outputs": [
        {
          "output_type": "stream",
          "name": "stdout",
          "text": [
            "country,continent,year,lifeExp,pop,gdpPercap    object\n",
            "dtype: object\n"
          ]
        }
      ]
    },
    {
      "cell_type": "code",
      "source": [
        "# get more information about our data\n",
        "print(df.info())"
      ],
      "metadata": {
        "id": "amjxvxdQ6Xcz",
        "outputId": "79e722d7-7e96-49d8-847c-e281b42f3678",
        "colab": {
          "base_uri": "https://localhost:8080/"
        }
      },
      "execution_count": null,
      "outputs": [
        {
          "output_type": "stream",
          "name": "stdout",
          "text": [
            "<class 'pandas.core.frame.DataFrame'>\n",
            "RangeIndex: 1704 entries, 0 to 1703\n",
            "Data columns (total 1 columns):\n",
            " #   Column                                        Non-Null Count  Dtype \n",
            "---  ------                                        --------------  ----- \n",
            " 0   country,continent,year,lifeExp,pop,gdpPercap  1704 non-null   object\n",
            "dtypes: object(1)\n",
            "memory usage: 13.4+ KB\n",
            "None\n"
          ]
        }
      ]
    }
  ]
}